{
  "nbformat": 4,
  "nbformat_minor": 0,
  "metadata": {
    "colab": {
      "name": "Perceptron_from_scratch.ipynb",
      "provenance": [],
      "collapsed_sections": []
    },
    "kernelspec": {
      "name": "python3",
      "display_name": "Python 3"
    },
    "language_info": {
      "name": "python"
    }
  },
  "cells": [
    {
      "cell_type": "code",
      "metadata": {
        "colab": {
          "base_uri": "https://localhost:8080/"
        },
        "id": "88_RG8kGEbRU",
        "outputId": "525d6bee-b887-4a2f-976e-c9575babf5f4"
      },
      "source": [
        "from google.colab import drive\n",
        "drive.mount('/content/drive')"
      ],
      "execution_count": 2,
      "outputs": [
        {
          "output_type": "stream",
          "name": "stdout",
          "text": [
            "Mounted at /content/drive\n"
          ]
        }
      ]
    },
    {
      "cell_type": "code",
      "metadata": {
        "id": "-EYC3jEHEepX"
      },
      "source": [
        "import os\n",
        "os.chdir('/content/drive/MyDrive/DLCVNLP course/Perceptron from scratch')"
      ],
      "execution_count": 3,
      "outputs": []
    },
    {
      "cell_type": "code",
      "metadata": {
        "colab": {
          "base_uri": "https://localhost:8080/",
          "height": 35
        },
        "id": "7OR8qWNHE9xD",
        "outputId": "26dd677a-1272-4f5f-ad48-16fc542b9af2"
      },
      "source": [
        "os.getcwd()"
      ],
      "execution_count": 4,
      "outputs": [
        {
          "output_type": "execute_result",
          "data": {
            "application/vnd.google.colaboratory.intrinsic+json": {
              "type": "string"
            },
            "text/plain": [
              "'/content/drive/MyDrive/DLCVNLP course/Perceptron from scratch'"
            ]
          },
          "metadata": {},
          "execution_count": 4
        }
      ]
    },
    {
      "cell_type": "code",
      "metadata": {
        "id": "jcVyRzisFKyW"
      },
      "source": [
        "import pandas as pd\n",
        "import numpy as np\n",
        "import matplotlib.pyplot as plt\n",
        "import joblib\n",
        "\n",
        "plt.style.use(\"fivethirtyeight\")"
      ],
      "execution_count": 5,
      "outputs": []
    },
    {
      "cell_type": "markdown",
      "metadata": {
        "id": "u4zGHxDdqlld"
      },
      "source": [
        "# **Perceptron Weight Rule**\n",
        "\n",
        "1.   z = Summation(x1w1 + x2w2+ Bias(w0x0))   => y = mx + c\n",
        "2.   activationFunction = O(z)    =>  if > 0 then 1 else 0\n",
        "\n",
        "Perceptron Weight Rule (Updating Rule) = older weight + Learning rate * (y-y_hat) * Xi"
      ]
    },
    {
      "cell_type": "code",
      "metadata": {
        "id": "8hHmw2Cg-Uya"
      },
      "source": [
        "class Perceptron:\n",
        "\n",
        "  def __init__(self, alpha, epochs, activationFunction):\n",
        "    self.weights = np.random.randn(3) * 1e-4\n",
        "    print(f\"weights : {self.weights}\")\n",
        "    self.alpha  = alpha\n",
        "    self.epochs = epochs\n",
        "    self.activationFunction = activationFunction\n",
        "\n",
        "  def fit(self, X, y):\n",
        "    self.X = X\n",
        "    self.y = y\n",
        "\n",
        "    X_with_biased = np.c_[self.X, -np.ones((len(self.X), 1))]  # concating bias\n",
        "    print(f\"X_with_biased : \\n{X_with_biased}\")\n",
        "    print(f\"initail Weights : {self.weights}\")\n",
        "    print(\"\\n+++++++++++++++++++++++\\n\")\n",
        "\n",
        "    for epoch in range(self.epochs):\n",
        "      print(f\"Epoch : {epoch}\")\n",
        "      y_hat = self.activationFunction(X_with_biased, self.weights)\n",
        "      print(f'actual value : {self.y}')\n",
        "      print(f\"predicted values : {y_hat}\")\n",
        "      error = self.y - y_hat\n",
        "      print(f\"error : {error}\")\n",
        "      self.weights = self.weights + self.alpha * np.dot(X_with_biased.T, error)    # updating weights\n",
        "      print(f\"updated weights : {self.weights}\")\n",
        "      print(\"\\n ------------------ \\n\")\n",
        "\n",
        "  def predict(self, X):\n",
        "    X_with_biased = np.c_[self.X, -np.ones((len(self.X)), 1)]\n",
        "    return activationFunction(X_with_biased, self.weights)\n"
      ],
      "execution_count": 132,
      "outputs": []
    },
    {
      "cell_type": "code",
      "metadata": {
        "id": "5uwWK-vM_hMJ"
      },
      "source": [
        "activationFunction = lambda inputs, weights : np.where(np.dot(inputs, weights) > 0, 1, 0)"
      ],
      "execution_count": 133,
      "outputs": []
    },
    {
      "cell_type": "code",
      "metadata": {
        "colab": {
          "base_uri": "https://localhost:8080/"
        },
        "id": "Nbi49MuvACwJ",
        "outputId": "c272f018-8100-468d-c05f-a70c7426cba7"
      },
      "source": [
        "model = Perceptron(alpha = 0.05, epochs = 10, activationFunction = activationFunction)"
      ],
      "execution_count": 140,
      "outputs": [
        {
          "output_type": "stream",
          "name": "stdout",
          "text": [
            "weights : [-3.79970748e-05  1.87231544e-04  6.66260031e-05]\n"
          ]
        }
      ]
    },
    {
      "cell_type": "code",
      "metadata": {
        "colab": {
          "base_uri": "https://localhost:8080/",
          "height": 173
        },
        "id": "X4yE5nB3hZXr",
        "outputId": "42a82e60-b94e-45a1-db33-206ef76b0490"
      },
      "source": [
        "data = {\"x1\" : [0,0,1,1], \"x2\" : [0,1,0,1], \"y\" : [0,0,0,1]}\n",
        "df = pd.DataFrame(data)\n",
        "df"
      ],
      "execution_count": 141,
      "outputs": [
        {
          "output_type": "execute_result",
          "data": {
            "text/html": [
              "<div>\n",
              "<style scoped>\n",
              "    .dataframe tbody tr th:only-of-type {\n",
              "        vertical-align: middle;\n",
              "    }\n",
              "\n",
              "    .dataframe tbody tr th {\n",
              "        vertical-align: top;\n",
              "    }\n",
              "\n",
              "    .dataframe thead th {\n",
              "        text-align: right;\n",
              "    }\n",
              "</style>\n",
              "<table border=\"1\" class=\"dataframe\">\n",
              "  <thead>\n",
              "    <tr style=\"text-align: right;\">\n",
              "      <th></th>\n",
              "      <th>x1</th>\n",
              "      <th>x2</th>\n",
              "      <th>y</th>\n",
              "    </tr>\n",
              "  </thead>\n",
              "  <tbody>\n",
              "    <tr>\n",
              "      <th>0</th>\n",
              "      <td>0</td>\n",
              "      <td>0</td>\n",
              "      <td>0</td>\n",
              "    </tr>\n",
              "    <tr>\n",
              "      <th>1</th>\n",
              "      <td>0</td>\n",
              "      <td>1</td>\n",
              "      <td>0</td>\n",
              "    </tr>\n",
              "    <tr>\n",
              "      <th>2</th>\n",
              "      <td>1</td>\n",
              "      <td>0</td>\n",
              "      <td>0</td>\n",
              "    </tr>\n",
              "    <tr>\n",
              "      <th>3</th>\n",
              "      <td>1</td>\n",
              "      <td>1</td>\n",
              "      <td>1</td>\n",
              "    </tr>\n",
              "  </tbody>\n",
              "</table>\n",
              "</div>"
            ],
            "text/plain": [
              "   x1  x2  y\n",
              "0   0   0  0\n",
              "1   0   1  0\n",
              "2   1   0  0\n",
              "3   1   1  1"
            ]
          },
          "metadata": {},
          "execution_count": 141
        }
      ]
    },
    {
      "cell_type": "code",
      "metadata": {
        "colab": {
          "base_uri": "https://localhost:8080/",
          "height": 173
        },
        "id": "z_ql3Qirh9cy",
        "outputId": "bb1bf047-2c40-4df0-8787-ee604e3877dc"
      },
      "source": [
        "X = df.drop(\"y\",axis = 1)\n",
        "X"
      ],
      "execution_count": 142,
      "outputs": [
        {
          "output_type": "execute_result",
          "data": {
            "text/html": [
              "<div>\n",
              "<style scoped>\n",
              "    .dataframe tbody tr th:only-of-type {\n",
              "        vertical-align: middle;\n",
              "    }\n",
              "\n",
              "    .dataframe tbody tr th {\n",
              "        vertical-align: top;\n",
              "    }\n",
              "\n",
              "    .dataframe thead th {\n",
              "        text-align: right;\n",
              "    }\n",
              "</style>\n",
              "<table border=\"1\" class=\"dataframe\">\n",
              "  <thead>\n",
              "    <tr style=\"text-align: right;\">\n",
              "      <th></th>\n",
              "      <th>x1</th>\n",
              "      <th>x2</th>\n",
              "    </tr>\n",
              "  </thead>\n",
              "  <tbody>\n",
              "    <tr>\n",
              "      <th>0</th>\n",
              "      <td>0</td>\n",
              "      <td>0</td>\n",
              "    </tr>\n",
              "    <tr>\n",
              "      <th>1</th>\n",
              "      <td>0</td>\n",
              "      <td>1</td>\n",
              "    </tr>\n",
              "    <tr>\n",
              "      <th>2</th>\n",
              "      <td>1</td>\n",
              "      <td>0</td>\n",
              "    </tr>\n",
              "    <tr>\n",
              "      <th>3</th>\n",
              "      <td>1</td>\n",
              "      <td>1</td>\n",
              "    </tr>\n",
              "  </tbody>\n",
              "</table>\n",
              "</div>"
            ],
            "text/plain": [
              "   x1  x2\n",
              "0   0   0\n",
              "1   0   1\n",
              "2   1   0\n",
              "3   1   1"
            ]
          },
          "metadata": {},
          "execution_count": 142
        }
      ]
    },
    {
      "cell_type": "code",
      "metadata": {
        "id": "10rxMJ2giGMF"
      },
      "source": [
        "y = df['y']\n",
        "y = y.to_list()"
      ],
      "execution_count": 143,
      "outputs": []
    },
    {
      "cell_type": "code",
      "metadata": {
        "colab": {
          "base_uri": "https://localhost:8080/"
        },
        "id": "L2T18m84iSU0",
        "outputId": "d93f1d0e-9592-4cf6-ac8e-49e3b5b775ae"
      },
      "source": [
        "y"
      ],
      "execution_count": 144,
      "outputs": [
        {
          "output_type": "execute_result",
          "data": {
            "text/plain": [
              "[0, 0, 0, 1]"
            ]
          },
          "metadata": {},
          "execution_count": 144
        }
      ]
    },
    {
      "cell_type": "code",
      "metadata": {
        "colab": {
          "base_uri": "https://localhost:8080/"
        },
        "id": "vRQmQgcXiTDV",
        "outputId": "e5fc09e5-4362-4bd9-e44b-9d4674d45220"
      },
      "source": [
        "model.fit(X,y)"
      ],
      "execution_count": 145,
      "outputs": [
        {
          "output_type": "stream",
          "name": "stdout",
          "text": [
            "X_with_biased : \n",
            "[[ 0.  0. -1.]\n",
            " [ 0.  1. -1.]\n",
            " [ 1.  0. -1.]\n",
            " [ 1.  1. -1.]]\n",
            "initail Weights : [-3.79970748e-05  1.87231544e-04  6.66260031e-05]\n",
            "\n",
            "+++++++++++++++++++++++\n",
            "\n",
            "Epoch : 0\n",
            "actual value : [0, 0, 0, 1]\n",
            "predicted values : [0 1 0 1]\n",
            "error : [ 0 -1  0  0]\n",
            "updated weights : [-3.79970748e-05 -4.98127685e-02  5.00666260e-02]\n",
            "\n",
            " ------------------ \n",
            "\n",
            "Epoch : 1\n",
            "actual value : [0, 0, 0, 1]\n",
            "predicted values : [0 0 0 0]\n",
            "error : [0 0 0 1]\n",
            "updated weights : [4.99620029e-02 1.87231544e-04 6.66260031e-05]\n",
            "\n",
            " ------------------ \n",
            "\n",
            "Epoch : 2\n",
            "actual value : [0, 0, 0, 1]\n",
            "predicted values : [0 1 1 1]\n",
            "error : [ 0 -1 -1  0]\n",
            "updated weights : [-3.79970748e-05 -4.98127685e-02  1.00066626e-01]\n",
            "\n",
            " ------------------ \n",
            "\n",
            "Epoch : 3\n",
            "actual value : [0, 0, 0, 1]\n",
            "predicted values : [0 0 0 0]\n",
            "error : [0 0 0 1]\n",
            "updated weights : [0.049962   0.00018723 0.05006663]\n",
            "\n",
            " ------------------ \n",
            "\n",
            "Epoch : 4\n",
            "actual value : [0, 0, 0, 1]\n",
            "predicted values : [0 0 0 1]\n",
            "error : [0 0 0 0]\n",
            "updated weights : [0.049962   0.00018723 0.05006663]\n",
            "\n",
            " ------------------ \n",
            "\n",
            "Epoch : 5\n",
            "actual value : [0, 0, 0, 1]\n",
            "predicted values : [0 0 0 1]\n",
            "error : [0 0 0 0]\n",
            "updated weights : [0.049962   0.00018723 0.05006663]\n",
            "\n",
            " ------------------ \n",
            "\n",
            "Epoch : 6\n",
            "actual value : [0, 0, 0, 1]\n",
            "predicted values : [0 0 0 1]\n",
            "error : [0 0 0 0]\n",
            "updated weights : [0.049962   0.00018723 0.05006663]\n",
            "\n",
            " ------------------ \n",
            "\n",
            "Epoch : 7\n",
            "actual value : [0, 0, 0, 1]\n",
            "predicted values : [0 0 0 1]\n",
            "error : [0 0 0 0]\n",
            "updated weights : [0.049962   0.00018723 0.05006663]\n",
            "\n",
            " ------------------ \n",
            "\n",
            "Epoch : 8\n",
            "actual value : [0, 0, 0, 1]\n",
            "predicted values : [0 0 0 1]\n",
            "error : [0 0 0 0]\n",
            "updated weights : [0.049962   0.00018723 0.05006663]\n",
            "\n",
            " ------------------ \n",
            "\n",
            "Epoch : 9\n",
            "actual value : [0, 0, 0, 1]\n",
            "predicted values : [0 0 0 1]\n",
            "error : [0 0 0 0]\n",
            "updated weights : [0.049962   0.00018723 0.05006663]\n",
            "\n",
            " ------------------ \n",
            "\n"
          ]
        }
      ]
    },
    {
      "cell_type": "code",
      "metadata": {
        "colab": {
          "base_uri": "https://localhost:8080/",
          "height": 309
        },
        "id": "hbF7D0Gcicrm",
        "outputId": "efb7aa96-e6a3-4c07-cb3d-f9422965a2bc"
      },
      "source": [
        "df.plot(kind = 'scatter', x=\"x1\", y=\"x2\", c=\"y\", s=50, cmap=\"winter\")\n",
        "plt.axhline(y=0, color=\"black\", linestyle=\"--\", linewidth=2)\n",
        "plt.axvline(x=0 ,color=\"black\", linestyle=\"--\", linewidth=2)\n",
        "\n",
        "x = np.linspace(0, 1.4) # >>> 50 \n",
        "y = 1.5 - 1*np.linspace(0, 1.4) # >>> 50 \n",
        "\n",
        "plt.plot(x, y, \"r--\")\n",
        "\n",
        "plt.show()"
      ],
      "execution_count": 155,
      "outputs": [
        {
          "output_type": "display_data",
          "data": {
            "image/png": "[encoded data removed]",
            "text/plain": [
              "<Figure size 432x288 with 2 Axes>"
            ]
          },
          "metadata": {}
        }
      ]
    },
    {
      "cell_type": "code",
      "metadata": {
        "id": "QacUC5yWpnJZ"
      },
      "source": [
        ""
      ],
      "execution_count": null,
      "outputs": []
    }
  ]
}